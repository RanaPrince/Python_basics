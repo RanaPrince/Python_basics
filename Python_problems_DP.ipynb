{
 "cells": [
  {
   "cell_type": "markdown",
   "metadata": {
    "colab_type": "text",
    "id": "l0ZzOlyxB-kf"
   },
   "source": [
    "<h1>Python: without numpy or sklearn </h1>"
   ]
  } ,
  {
   "cell_type": "markdown",
   "metadata": {
    "colab_type": "text",
    "id": "C0xO8JV9B-ki"
   },
   "source": [
    "<h3> Q1: Given two matrices please print the product of those two matrices </h3>\n",
    "<pre>\n",
    "\n",
    "Ex 1: A   = [[1 3 4]\n",
    "             [2 5 7]\n",
    "             [5 9 6]]\n",
    "      B   = [[1 0 0]\n",
    "             [0 1 0]\n",
    "             [0 0 1]]\n",
    "      A*B = [[1 3 4]\n",
    "             [2 5 7]\n",
    "             [5 9 6]]\n",
    "\n",
    "     \n",
    "Ex 2: A   = [[1 2]\n",
    "             [3 4]]\n",
    "      B   = [[1 2 3 4 5]\n",
    "             [5 6 7 8 9]]\n",
    "      A*B = [[11 14 17 20 23]\n",
    "             [23 30 36 42 51]]\n",
    "             \n",
    "Ex 3: A   = [[1 2]\n",
    "             [3 4]]\n",
    "      B   = [[1 4]\n",
    "             [5 6]\n",
    "             [7 8]\n",
    "             [9 6]]\n",
    "      A*B =Not possible\n",
    "</pre>"
   ]
  },
  {
   "cell_type": "code",
   "execution_count": 2,
   "metadata": {
    "colab": {},
    "colab_type": "code",
    "id": "rnssAfpgB-kj",
    "scrolled": true
   },
   "outputs": [
    {
     "name": "stdout",
     "output_type": "stream",
     "text": [
      "[11, 14, 17, 20, 23]\n",
      "[23, 30, 37, 44, 51]\n",
      "[1, 3, 4]\n",
      "[2, 5, 7]\n",
      "[5, 9, 6]\n",
      "Not possible\n"
     ]
    }
   ],
   "source": [
    "A = [[1,2],[3,4]]\n",
    "B = [[1,2 ,3, 4, 5],[5 ,6, 7, 8, 9]]\n",
    "P = [[1,3,4],[2,5,7],[5,9,6]]\n",
    "Q =  [[1,0,0],[0,1,0],[0,0,1]]\n",
    "\n",
    "#A,B,P,Q are the lists of lists\n",
    "\n",
    "def MulMatrix(X,Y):\n",
    "    #to check if the multiplication is possible\n",
    "    if len(X[0]) != len(Y):\n",
    "        return print(\"Not possible\")\n",
    "    \n",
    "    #first we construct zero matrix C = A * B of order len(A) X len(B[0])\n",
    "    C = []\n",
    "    C_row=len(Y[0])*[0]\n",
    "    for i in range(len(X)):\n",
    "        C.append(C_row[:])\n",
    "    \n",
    "    for i in range(len(C)): #iterating for rows\n",
    "        for j in range(len(C[0])): #iterating for column value\n",
    "            for k in range(0,len(Y)):#the calculation for matrix multiplication of each element\n",
    "    \n",
    "               C[i][j] +=  X[i][k] * Y[k][j]\n",
    "            \n",
    "    #For output in form of a matrix\n",
    "    for lst in C:\n",
    "        print(lst)\n",
    "    return\n",
    "\n",
    "MulMatrix(A,B)\n",
    "MulMatrix(P,Q)\n",
    "MulMatrix(B,P)"
   ]
  },
  {
   "cell_type": "markdown",
   "metadata": {},
   "source": [
    "Reference : https://stackoverflow.com/questions/17870612/printing-a-two-dimensional-array-in-python"
   ]
  },
  {
   "cell_type": "markdown",
   "metadata": {
    "colab_type": "text",
    "id": "at4VwLggB-kn"
   },
   "source": [
    "\n",
    "<h3> Q2: Select a number randomly with probability proportional to its magnitude from the given array of n elements</h3>\n",
    "\n",
    "consider an experiment, selecting an element from the list A randomly with probability proportional to its magnitude.\n",
    "assume we are doing the same experiment for 100 times with replacement, in each experiment you will print a number that is selected randomly from A.\n",
    "\n",
    "<pre>\n",
    "Ex 1: A = [0 5 27 6 13 28 100 45 10 79]\n",
    "let f(x) denote the number of times x getting selected in 100 experiments.\n",
    "f(100) > f(79) > f(45) > f(28) > f(27) > f(13) > f(10) > f(6) > f(5) > f(0)\n",
    "</pre>"
   ]
  },
  {
   "cell_type": "code",
   "execution_count": 1,
   "metadata": {
    "colab": {},
    "colab_type": "code",
    "id": "B6S2dpBhB-kn"
   },
   "outputs": [
    {
     "name": "stdout",
     "output_type": "stream",
     "text": [
      "100\n",
      "100\n",
      "100\n",
      "28\n",
      "28\n",
      "45\n",
      "100\n",
      "28\n",
      "45\n",
      "13\n",
      "100\n",
      "100\n",
      "28\n",
      "100\n",
      "10\n",
      "100\n",
      "45\n",
      "28\n",
      "100\n",
      "10\n",
      "100\n",
      "100\n",
      "100\n",
      "45\n",
      "28\n",
      "100\n",
      "100\n",
      "10\n",
      "45\n",
      "45\n",
      "100\n",
      "45\n",
      "45\n",
      "100\n",
      "100\n",
      "45\n",
      "100\n",
      "100\n",
      "28\n",
      "28\n",
      "100\n",
      "13\n",
      "100\n",
      "45\n",
      "100\n",
      "45\n",
      "45\n",
      "100\n",
      "28\n",
      "100\n",
      "100\n",
      "45\n",
      "100\n",
      "79\n",
      "45\n",
      "45\n",
      "45\n",
      "45\n",
      "10\n",
      "10\n",
      "100\n",
      "28\n",
      "45\n",
      "100\n",
      "100\n",
      "100\n",
      "100\n",
      "45\n",
      "45\n",
      "45\n",
      "45\n",
      "28\n",
      "45\n",
      "28\n",
      "45\n",
      "100\n",
      "100\n",
      "45\n",
      "28\n",
      "45\n",
      "45\n",
      "100\n",
      "45\n",
      "45\n",
      "45\n",
      "100\n",
      "45\n",
      "28\n",
      "100\n",
      "45\n",
      "100\n",
      "10\n",
      "28\n",
      "45\n",
      "28\n",
      "28\n",
      "45\n",
      "13\n",
      "45\n",
      "100\n"
     ]
    }
   ],
   "source": [
    "import random #random imported for the random selection\n",
    "\n",
    "def pick_a_number_from_list(A):  #a function defined for the random selection\n",
    "    # your code here for picking an element from with the probability propotional to its magnitude\n",
    "    \n",
    "    #assigning lists & values to be used in program\n",
    "    ini = 0; weighted = []; cumul=[];n=[];\n",
    "    \n",
    "    #to fing the weight of each element\n",
    "    for element in A:\n",
    "        weight = element/sum(A)\n",
    "        weighted.append(weight)\n",
    "    # to calculate the cumulative weight of elements\n",
    "    for element in weighted:\n",
    "        ini+= element\n",
    "        cumul.append(ini)\n",
    "    #select an element based on its weight\n",
    "    for element in cumul:\n",
    "        rand_select = random.uniform(0.0,1.0) #selects a random no from (0-1)\n",
    "        if element <= rand_select:\n",
    "            n.append(element)        \n",
    "    print(A[len(n)])\n",
    "\n",
    "def sampling_based_on_magnitude(X): #a function defined to perform the random event 100 times\n",
    "    for i in range(0,100):\n",
    "        number = pick_a_number_from_list(A)\n",
    "    return number \n",
    "\n",
    "\n",
    "A = [0,5 ,27 ,6, 13, 28, 100, 45, 10, 79]\n",
    "sampling_based_on_magnitude(A)"
   ]
  },
  {
   "cell_type": "markdown",
   "metadata": {
    "colab_type": "text",
    "id": "D1xQy2WWB-kq"
   },
   "source": [
    "<h3> Q3: Replace the digits in the string with #</h3>\n",
    "\n",
    "consider a string that will have digits in that, we need to remove all the not digits and replace the digits with #\n",
    "<pre>\n",
    "Ex 1: A = 234                Output: ###\n",
    "Ex 2: A = a2b3c4             Output: ###\n",
    "Ex 3: A = abc                Output:   (empty string)\n",
    "Ex 5: A = #2a$#b%c%561#      Output: ####\n",
    "</pre>"
   ]
  },
  {
   "cell_type": "code",
   "execution_count": 24,
   "metadata": {
    "colab": {},
    "colab_type": "code",
    "id": "fxczi2jzB-kr"
   },
   "outputs": [
    {
     "name": "stdout",
     "output_type": "stream",
     "text": [
      "###\n",
      "###\n",
      "\n",
      "####\n"
     ]
    }
   ],
   "source": [
    "A = \"234\"               \n",
    "B = \"a2b3c4\"            \n",
    "C = \"abc\"                \n",
    "D = \"#2a$#b%c%561#\" \n",
    "\n",
    "import re\n",
    "#importing the re module, which can be used to work with Regular Expressions.\n",
    "#RegEx can be used to check if a string contains the specified search pattern.\n",
    "\n",
    "def replace_digits(String):\n",
    "    \n",
    "    # using sub in re to replace the non-digits,^ returns except for\n",
    "    x = re.sub(\"[^0-9]\",\"\",str(String))\n",
    "    y = re.sub(\"[0-9]\",\"#\",x)  \n",
    "    return(y)\n",
    "\n",
    "print(replace_digits(A))\n",
    "print(replace_digits(B))\n",
    "print(replace_digits(C))\n",
    "print(replace_digits(D))"
   ]
  },
  {
   "cell_type": "markdown",
   "metadata": {},
   "source": [
    "Reference : https://www.w3schools.com/python/python_regex.asp#sub"
   ]
  },
  {
   "cell_type": "markdown",
   "metadata": {
    "colab_type": "text",
    "id": "j7h0Ywg7B-kw"
   },
   "source": [
    "<h3> Q4: Students marks dashboard</h3>\n",
    "\n",
    "consider the marks list of class students given two lists <br>\n",
    "Students = ['student1','student2','student3','student4','student5','student6','student7','student8','student9','student10'] <br>\n",
    "Marks = [45, 78, 12, 14, 48, 43, 45, 98, 35, 80] <br>\n",
    "from the above two lists the Student[0] got Marks[0],  Student[1] got Marks[1] and so on <br><br>\n",
    "your task is to print the name of students\n",
    "<strong>a. Who got top 5 ranks, in the descending order of marks</strong> <br>\n",
    "<strong>b. Who got least 5 ranks, in the increasing order of marks</strong><br>\n",
    "<strong>d. Who got marks between  &gt;25th percentile &lt;75th percentile, in the increasing order of marks</strong>\n",
    "\n",
    "<pre>\n",
    "Ex 1: \n",
    "Students=['student1','student2','student3','student4','student5','student6','student7','student8','student9','student10'] \n",
    "Marks = [45, 78, 12, 14, 48, 43, 47, 98, 35, 80]\n",
    "a. \n",
    "student8  98\n",
    "student10 80\n",
    "student2  78\n",
    "student5  48\n",
    "student7  47\n",
    "b.\n",
    "student3 12\n",
    "student4 14\n",
    "student9 35\n",
    "student6 43\n",
    "student1 45\n",
    "c.\n",
    "student9 35\n",
    "student6 43\n",
    "student1 45\n",
    "student7 47\n",
    "student5 48\n",
    "</pre>"
   ]
  },
  {
   "cell_type": "code",
   "execution_count": 9,
   "metadata": {
    "colab": {},
    "colab_type": "code",
    "id": "cxPJgItsB-kx"
   },
   "outputs": [
    {
     "name": "stdout",
     "output_type": "stream",
     "text": [
      "\n",
      "top_5_students\n",
      "student8 98\n",
      "student10 80\n",
      "student2 78\n",
      "student5 48\n",
      "student7 47\n",
      "\n",
      "least_5_students\n",
      "student3 12\n",
      "student4 14\n",
      "student9 35\n",
      "student6 43\n",
      "student1 45\n",
      "\n",
      "students_within_25_and_75 percentile\n",
      "student9 35 35.0\n",
      "student6 43 43.0\n",
      "student1 45 45.0\n",
      "student7 47 47.0\n",
      "student5 48 48.0\n"
     ]
    }
   ],
   "source": [
    "Students=['student1','student2','student3','student4','student5','student6','student7','student8','student9','student10'] \n",
    "Marks = [45, 78, 12, 14, 48, 43, 47, 98, 35, 80]\n",
    "\n",
    "\n",
    "def display_dash_board(students, marks):\n",
    "    file = dict(zip(Students,Marks))\n",
    "    \n",
    "    # write code for computing top top 5 students\n",
    "    print(\"\\ntop_5_students\")\n",
    "    top_5_students = sorted(file.items(), key=lambda item: item[1],reverse=True)[:5]\n",
    "    for i in top_5_students:\n",
    "        print(i[0], i[1])\n",
    "    \n",
    "    # write code for computing top least 5 students\n",
    "    print(\"\\nleast_5_students\")\n",
    "    least_5_students = sorted(file.items(), key=lambda item: item[1])[:5]\n",
    "    for i in least_5_students:\n",
    "        print(i[0], i[1])\n",
    "    \n",
    "\n",
    "    #computing students_within_25_and_75 percentile\n",
    "    print(\"\\nstudents_within_25_and_75 percentile\")\n",
    "    # first we sort the dictionary in ascending order & then calculate percentiles\n",
    "    X = sorted(file.items(), key=lambda item: item[1])\n",
    "    \n",
    "    max_marks = max(Marks); min_marks = min(Marks)\n",
    "    diff = max_marks - min_marks\n",
    "    percentile_25 = diff*0.25; percentile_75 = diff*0.75\n",
    "    \n",
    "    for key,value in X:\n",
    "        percentage = float((value/100) * 100)\n",
    "        if percentile_25 < percentage < percentile_75:\n",
    "            print(key,value,percentage)\n",
    "    return\n",
    "\n",
    "display_dash_board(Students, Marks)"
   ]
  },
  {
   "cell_type": "markdown",
   "metadata": {},
   "source": [
    "Reference :https://careerkarma.com/blog/python-sort-a-dictionary-by-value/"
   ]
  },
  {
   "cell_type": "markdown",
   "metadata": {
    "colab_type": "text",
    "id": "qha0OhQHB-k1"
   },
   "source": [
    "<h3> Q5: Find the closest points</h3>\n",
    "\n",
    "consider you have given n data points in the form of list of tuples like S=[(x1,y1),(x2,y2),(x3,y3),(x4,y4),(x5,y5),..,(xn,yn)] and a point P=(p,q) <br> your task is to find 5 closest points(based on cosine distance) in S from P\n",
    "<br>cosine distance between two points (x,y) and (p,q) is defind as $cos^{-1}(\\frac{(x\\cdot p+y\\cdot q)}{\\sqrt(x^2+y^2)\\cdot\\sqrt(p^2+q^2)})$\n",
    "<pre>\n",
    "Ex:\n",
    "\n",
    "S= [(1,2),(3,4),(-1,1),(6,-7),(0, 6),(-5,-8),(-1,-1)(6,0),(1,-1)]\n",
    "P= (3,-4)\n",
    "<img src='https://i.imgur.com/vIFPOcG.jpg', width=300>\n",
    "Output:\n",
    "(6,-7)\n",
    "(1,-1)\n",
    "(6,0)\n",
    "(-5,-8)\n",
    "(-1,-1)\n",
    "</pre>"
   ]
  },
  {
   "cell_type": "code",
   "execution_count": 26,
   "metadata": {
    "colab": {},
    "colab_type": "code",
    "id": "wA5I1g-2B-k2",
    "scrolled": true
   },
   "outputs": [
    {
     "name": "stdout",
     "output_type": "stream",
     "text": [
      "point:(6, -7)  | distance: 0.06512516333438509\n",
      "point:(1, -1)  | distance: 0.14189705460416438\n",
      "point:(6, 0)  | distance: 0.9272952180016123\n",
      "point:(-5, -8)  | distance: 1.2021004241368467\n",
      "point:(-1, -1)  | distance: 1.4288992721907328\n"
     ]
    }
   ],
   "source": [
    "import math\n",
    "\n",
    "# here S is list of tuples and P is a tuple ot len=2\n",
    "\n",
    "def closest_points_to_p(S, P):\n",
    "    # write your code here\n",
    "    \n",
    "    #an empty list is declared first that is to be used to store the cosine distances\n",
    "    cos_d = []\n",
    "    for i in range(len(S)):\n",
    "        d = math.acos((((S[i][0]*P[0])+(S[i][1]*P[1]))/((math.sqrt((S[i][0]**2)+(S[i][1]**2))) *(math.sqrt((P[0]**2)+(P[1]**2))))))\n",
    "        cos_d.append(d)\n",
    "        \n",
    "    #create a dictionary for the distances corresponding to the given points    \n",
    "    dictionary = dict(zip(S,cos_d))\n",
    "    \n",
    "    # we will find the 5 nearest points corresponding to the cos-distances using a lambda function    \n",
    "    for key, value in sorted(dictionary.items(), key=lambda item: item[1])[:5]:\n",
    "        print(\"point:{0} \" \" | \" \"distance: {1}\".format(key,value))\n",
    "    return\n",
    "\n",
    "S= [(1,2),(3,4),(-1,1),(6,-7),(0, 6),(-5,-8),(-1,-1),(6,0),(1,-1)]\n",
    "P= (3,-4)\n",
    "\n",
    "closest_points_to_p(S,P)"
   ]
  },
  {
   "cell_type": "markdown",
   "metadata": {},
   "source": [
    "Reference :https://careerkarma.com/blog/python-sort-a-dictionary-by-value/"
   ]
  },
  {
   "cell_type": "markdown",
   "metadata": {
    "colab_type": "text",
    "id": "-g11jeAiB-k5"
   },
   "source": [
    "<h3> Q6: Find Which line separates oranges and apples</h3>\n",
    "consider you have given two set of data points in the form of list of tuples like \n",
    "<pre>\n",
    "Red =[(R11,R12),(R21,R22),(R31,R32),(R41,R42),(R51,R52),..,(Rn1,Rn2)]\n",
    "Blue=[(B11,B12),(B21,B22),(B31,B32),(B41,B42),(B51,B52),..,(Bm1,Bm2)]\n",
    "</pre>\n",
    "and set of line equations(in the string formate, i.e list of strings)\n",
    "<pre>\n",
    "Lines = [a1x+b1y+c1,a2x+b2y+c2,a3x+b3y+c3,a4x+b4y+c4,..,K lines]\n",
    "Note: you need to string parsing here and get the coefficients of x,y and intercept\n",
    "</pre>\n",
    "your task is to for each line that is given print \"YES\"/\"NO\", you will print yes, if all the red points are one side of the line and blue points are other side of the line, otherwise no\n",
    "<pre>\n",
    "Ex:\n",
    "Red= [(1,1),(2,1),(4,2),(2,4), (-1,4)]\n",
    "Blue= [(-2,-1),(-1,-2),(-3,-2),(-3,-1),(1,-3)]\n",
    "Lines=[\"1x+1y+0\",\"1x-1y+0\",\"1x+0y-3\",\"0x+1y-0.5\"]\n",
    "<img src='https://i.imgur.com/DoQf7mE.jpg' width=400>\n",
    "Output:\n",
    "YES\n",
    "NO\n",
    "NO\n",
    "YES\n",
    "</pre>"
   ]
  },
  {
   "cell_type": "code",
   "execution_count": 27,
   "metadata": {
    "colab": {},
    "colab_type": "code",
    "id": "eRxExaTRB-k6"
   },
   "outputs": [
    {
     "name": "stdout",
     "output_type": "stream",
     "text": [
      "Yes\n",
      "No\n",
      "No\n",
      "Yes\n"
     ]
    }
   ],
   "source": [
    "import re\n",
    "\n",
    "def i_am_the_one(Red,Blue,line):\n",
    "    #Blank lists to store the calculated value as per the formulae\n",
    "    Red_S = []\n",
    "    Blue_S= []\n",
    "    #iterating over each equation in list of lines\n",
    "    for eq in line:\n",
    "        #converting the string value of the lines to float value\n",
    "        a = [float(s) for s in re.split('x|y',eq)]\n",
    "        \n",
    "        #Calculationg as per the formulae ax + by - c\n",
    "        #For Red points\n",
    "        R = []\n",
    "        for i in range(len(Red)):\n",
    "             S = ((a[0]*Red[i][0]) + (a[1]*Red[i][1]) - a[2]) #ax+by-c formulae\n",
    "             R.append(S)\n",
    "        Red_S.append(R)\n",
    "        \n",
    "        #For Blue points\n",
    "        B = []\n",
    "        for j in range(len(Blue)):\n",
    "             S = ((a[0]*Blue[i][0]) + (a[1]*Blue[i][1]) - a[2]) #ax+by-c formulae\n",
    "             B.append(S)\n",
    "        Blue_S.append(B)\n",
    "    #To check if line separates the points or not\n",
    "    #Logic : if both lists of calculated values have different signs they do, else not\n",
    "    for r in range(len(line)):\n",
    "        if ((all(i > 0 for i in Red_S[r])) and (all(i < 0 for i in Blue_S[r]))) or ((all(i < 0 for i in Red_S[r])) and (all(i > 0 for i in Blue_S[r]))):\n",
    "            print(\"Yes\")\n",
    "        else:\n",
    "            print(\"No\")\n",
    "\n",
    "            \n",
    "Oranges = [(1,1),(2,1),(4,2),(2,4), (-1,4)]\n",
    "Apples = [(-2,-1),(-1,-2),(-3,-2),(-3,-1),(1,-3)]\n",
    "Lines=[\"1x+1y+0\",\"1x-1y+0\",\"1x+0y-3\",\"0x+1y-0.5\"]            \n",
    "\n",
    "\n",
    "i_am_the_one(Oranges,Apples,Lines)          \n",
    "            "
   ]
  },
  {
   "cell_type": "markdown",
   "metadata": {},
   "source": [
    "References:- Logic:FAQ’s of Python Mandatory Assignment(Medium) https://www.w3schools.com/python/python_regex.asp https://www.geeksforgeeks.org/python-check-if-all-elements-in-list-follow-a-condition/"
   ]
  },
  {
   "cell_type": "markdown",
   "metadata": {
    "colab_type": "text",
    "id": "9OBpURbNB-k9"
   },
   "source": [
    "<h3> Q7: Filling the missing values in the specified formate</h3>\n",
    "You will be given a string with digits and '\\_'(missing value) symbols you have to replace the '\\_' symbols as explained \n",
    "<pre>\n",
    "Ex 1: _, _, _, 24 ==> 24/4, 24/4, 24/4, 24/4 i.e we. have distributed the 24 equally to all 4 places <br>\n",
    "Ex 2: 40, _, _, _, 60 ==> (60+40)/5,(60+40)/5,(60+40)/5,(60+40)/5,(60+40)/5 ==> 20, 20, 20, 20, 20 i.e. the sum of (60+40) is distributed qually to all 5 places<br>\n",
    "Ex 3: 80, _, _, _, _  ==> 80/5,80/5,80/5,80/5,80/5 ==> 16, 16, 16, 16, 16 i.e. the 80 is distributed qually to all 5 missing values that are right to it<br>\n",
    "Ex 4: _, _, 30, _, _, _, 50, _, _  \n",
    "==> we will fill the missing values from left to right \n",
    "    a. first we will distribute the 30 to left two missing values (10, 10, 10, _, _, _, 50, _, _)\n",
    "    b. now distribute the sum (10+50) missing values in between (10, 10, 12, 12, 12, 12, 12, _, _) \n",
    "    c. now we will distribute 12 to right side missing values (10, 10, 12, 12, 12, 12, 4, 4, 4)\n",
    "</pre>\n",
    "for a given string with comma seprate values, which will have both missing values numbers like ex: \"_, _, x, _, _, _\"\n",
    "you need fill the missing values\n",
    "\n",
    "Q: your program reads a string like ex: \"_, _, x, _, _, _\" and returns the filled sequence\n",
    "\n",
    "Ex: \n",
    "<pre>\n",
    "Input1: \"_,_,_,24\"\n",
    "Output1: 6,6,6,6\n",
    "\n",
    "Input2: \"40,_,_,_,60\"\n",
    "Output2: 20,20,20,20,20\n",
    "\n",
    "Input3: \"80,_,_,_,_\"\n",
    "Output3: 16,16,16,16,16\n",
    "\n",
    "Input4: \"_,_,30,_,_,_,50,_,_\"\n",
    "Output4: 10,10,12,12,12,12,4,4,4\n",
    "</pre>\n",
    "\n"
   ]
  },
  {
   "cell_type": "code",
   "execution_count": 18,
   "metadata": {
    "colab": {},
    "colab_type": "code",
    "id": "nZmpzHs_B-k-"
   },
   "outputs": [
    {
     "name": "stdout",
     "output_type": "stream",
     "text": [
      "[6.0, 6.0, 6.0, 6.0]\n",
      "[20.0, 20.0, 20.0, 20.0, 20.0]\n",
      "[16.0, 16.0, 16.0, 16.0, 16.0]\n",
      "[10.0, 10.0, 12.0, 12.0, 12.0, 12.0, 4.0, 4.0, 4.0]\n"
     ]
    }
   ],
   "source": [
    "def curve_smoothing(A):\n",
    "    \n",
    "    # to convert a string into a list\n",
    "    S = A.split(',')\n",
    "    \n",
    "    #to find the index of the digits in the given string\n",
    "    dig_index = []\n",
    "    for idx in range(len(S)):\n",
    "        if S[idx].isdigit():\n",
    "            dig_index.append(idx)\n",
    "    dig_index.append(len(S)-1)\n",
    "    # condition for strings following  given 4th condition\n",
    "    if dig_index[0] > 0 and dig_index[-1] > dig_index[-2]:\n",
    "        #we'll divide our list to fill from left\n",
    "        \n",
    "        start = []\n",
    "        for i in range(dig_index[0] + 1):\n",
    "                v  = float(S[dig_index[0]])/ (dig_index[0] + 1)\n",
    "                start.append(v) \n",
    "                \n",
    "        #moving over to the next digit encountered\n",
    "        #first element from left to next = middle\n",
    "        mid = []\n",
    "        for i in range(dig_index[1] - 1):\n",
    "            l = (float(start[len(start)-1]) + float(S[dig_index[1]])) / (dig_index[1]-1)\n",
    "            mid.append(l)\n",
    "            \n",
    "        #using our condition for the end blanks/dividing value    \n",
    "        end = []\n",
    "        if dig_index[-1] > dig_index[-2]:\n",
    "\n",
    "            for i in range((dig_index[-1] - dig_index[-2]) + 1 ):\n",
    "                m = mid[-1]/((dig_index[-1] - dig_index[-2]) + 1 )\n",
    "                end.append(m)\n",
    "            del mid [-1]        \n",
    "\n",
    "        del start[-1];\n",
    "        S = start+mid+end\n",
    "\n",
    "    else:\n",
    "        #the ref to length(string) is deleted\n",
    "        del dig_index[-1]\n",
    "        \n",
    "        k = 0 \n",
    "        #iterating through the index values stored\n",
    "        for i in dig_index: \n",
    "            k+= float(S[i])\n",
    "        #digits distribition\n",
    "        for j in range(len(S)):\n",
    "            S[j] = k/len(S)\n",
    "\n",
    "    return S #list of values\n",
    "\n",
    "\n",
    "M = \"_,_,_,24\"\n",
    "N = \"40,_,_,_,60\"\n",
    "O = \"80,_,_,_,_\"\n",
    "P = \"_,_,30,_,_,_,50,_,_\"\n",
    "\n",
    "print(curve_smoothing(M))\n",
    "print(curve_smoothing(N))\n",
    "print(curve_smoothing(O))\n",
    "print(curve_smoothing(P))\n"
   ]
  },
  {
   "cell_type": "markdown",
   "metadata": {
    "colab_type": "text",
    "id": "RBz4pzlfB-lB"
   },
   "source": [
    "<h3> Q8: Conditional probabilities</h3>\n",
    "You will be given a list of lists, each sublist will be of length 2 i.e. [[x,y],[p,q],[l,m]..[r,s]]\n",
    "consider its like a martrix of n rows and two columns\n",
    "1. the first column F will contain only 5 uniques values (F1, F2, F3, F4, F5)\n",
    "2. the second column S will contain only 3 uniques values (S1, S2, S3)\n",
    "<pre>\n",
    "your task is to find\n",
    "a. Probability of P(F=F1|S==S1), P(F=F1|S==S2), P(F=F1|S==S3)\n",
    "b. Probability of P(F=F2|S==S1), P(F=F2|S==S2), P(F=F2|S==S3)\n",
    "c. Probability of P(F=F3|S==S1), P(F=F3|S==S2), P(F=F3|S==S3)\n",
    "d. Probability of P(F=F4|S==S1), P(F=F4|S==S2), P(F=F4|S==S3)\n",
    "e. Probability of P(F=F5|S==S1), P(F=F5|S==S2), P(F=F5|S==S3)\n",
    "</pre>\n",
    "Ex:\n",
    "\n",
    "<pre>\n",
    "[[F1,S1],[F2,S2],[F3,S3],[F1,S2],[F2,S3],[F3,S2],[F2,S1],[F4,S1],[F4,S3],[F5,S1]]\n",
    "\n",
    "a. P(F=F1|S==S1)=1/4, P(F=F1|S==S2)=1/3, P(F=F1|S==S3)=0/3\n",
    "b. P(F=F2|S==S1)=1/4, P(F=F2|S==S2)=1/3, P(F=F2|S==S3)=1/3\n",
    "c. P(F=F3|S==S1)=0/4, P(F=F3|S==S2)=1/3, P(F=F3|S==S3)=1/3\n",
    "d. P(F=F4|S==S1)=1/4, P(F=F4|S==S2)=0/3, P(F=F4|S==S3)=1/3\n",
    "e. P(F=F5|S==S1)=1/4, P(F=F5|S==S2)=0/3, P(F=F5|S==S3)=0/3\n",
    "</pre>\n",
    "\n",
    "\n"
   ]
  },
  {
   "cell_type": "code",
   "execution_count": 19,
   "metadata": {
    "colab": {},
    "colab_type": "code",
    "id": "e-1giz1MB-lC"
   },
   "outputs": [
    {
     "name": "stdout",
     "output_type": "stream",
     "text": [
      "P(F=F1|S==S1)= 1 / 4 , P(F=F1|S==S2)= 1 / 3 , P(F=F1|S==S3)= 0 / 3\n",
      "P(F=F2|S==S1)= 1 / 4 , P(F=F2|S==S2)= 1 / 3 , P(F=F1|S==S3)= 1 / 3\n",
      "P(F=F3|S==S1)= 0 / 4 , P(F=F3|S==S2)= 1 / 3 , P(F=F1|S==S3)= 1 / 3\n",
      "P(F=F4|S==S1)= 1 / 4 , P(F=F4|S==S2)= 0 / 3 , P(F=F1|S==S3)= 1 / 3\n",
      "P(F=F5|S==S1)= 1 / 4 , P(F=F5|S==S2)= 0 / 3 , P(F=F1|S==S3)= 0 / 3\n"
     ]
    }
   ],
   "source": [
    "def compute_conditional_probabilites(A):\n",
    "    \n",
    "    #declare initial variables with value zero to store the occurence\n",
    "    S1 = S2 = S3 = 0;\n",
    "    F1S1=F2S1=F3S1=F4S1=F5S1=  F1S2=F2S2=F3S2=F4S2=F5S2=  F1S3=F2S3=F3S3=F4S3=F5S3 = 0;\n",
    "    \n",
    "    # simply using the conditional probability formulae,we'll store the values of each combination,in accordance to occurence\n",
    "    \n",
    "    for i in range(len(A)):\n",
    "       \n",
    "        if (A[i][1] == 'S1'):\n",
    "            S1 += 1\n",
    "            \n",
    "            if A[i][0] == 'F1':\n",
    "                F1S1 += 1\n",
    "            if A[i][0] == 'F2':\n",
    "                F2S1 += 1\n",
    "            elif A[i][0] == 'F3':\n",
    "                F3S1 += 1\n",
    "            elif A[i][0] == 'F4':\n",
    "                F4S1 += 1\n",
    "            elif A[i][0] == 'F5':\n",
    "                F5S1 += 1\n",
    "    \n",
    "    \n",
    "        elif (A[i][1] == 'S2'):\n",
    "            S2 += 1 \n",
    "\n",
    "            if A[i][0] == 'F1':\n",
    "                F1S2 += 1\n",
    "            elif A[i][0] == 'F2':\n",
    "                F2S2 += 1\n",
    "            elif A[i][0] == 'F3':\n",
    "                F3S2 += 1\n",
    "            elif A[i][0] == 'F4':\n",
    "                F4S2 += 1\n",
    "            elif A[i][0] == 'F5':\n",
    "                F5S2 += 1\n",
    "    \n",
    "        else :\n",
    "            S3 += 1 \n",
    "\n",
    "            if A[i][0] == 'F1':\n",
    "                F1S3 += 1\n",
    "            elif A[i][0] == 'F2':\n",
    "                F2S3 += 1\n",
    "            elif A[i][0] == 'F3':\n",
    "                F3S3 += 1\n",
    "            elif A[i][0] == 'F4':\n",
    "                F4S3 += 1\n",
    "            else:\n",
    "                F5S3 += 1\n",
    "            \n",
    "    print('P(F=F1|S==S1)=',F1S1,'/',S1,', P(F=F1|S==S2)=',F1S2,'/',S2, ', P(F=F1|S==S3)=',F1S3,'/',S3)\n",
    "    print('P(F=F2|S==S1)=',F2S1,'/',S1,', P(F=F2|S==S2)=',F2S2,'/',S2, ', P(F=F1|S==S3)=',F2S3,'/',S3)\n",
    "    print('P(F=F3|S==S1)=',F3S1,'/',S1,', P(F=F3|S==S2)=',F3S2,'/',S2, ', P(F=F1|S==S3)=',F3S3,'/',S3)\n",
    "    print('P(F=F4|S==S1)=',F4S1,'/',S1,', P(F=F4|S==S2)=',F4S2,'/',S2, ', P(F=F1|S==S3)=',F4S3,'/',S3)\n",
    "    print('P(F=F5|S==S1)=',F5S1,'/',S1,', P(F=F5|S==S2)=',F5S2,'/',S2, ', P(F=F1|S==S3)=',F5S3,'/',S3)\n",
    "\n",
    "    \n",
    "    \n",
    "A = [['F1','S1'],['F2','S2'],['F3','S3'],['F1','S2'],['F2','S3'],['F3','S2'],['F2','S1'],['F4','S1'],['F4','S3'],['F5','S1']]\n",
    "compute_conditional_probabilites(A)      "
   ]
  },
  {
   "cell_type": "markdown",
   "metadata": {
    "colab_type": "text",
    "id": "n4HS87QmB-lF"
   },
   "source": [
    "<h3> Q9: Given two sentences S1, S2</h3>\n",
    "You will be given two sentences S1, S2 your task is to find \n",
    "<pre>\n",
    "a. Number of common words between S1, S2\n",
    "b. Words in S1 but not in S2\n",
    "c. Words in S2 but not in S1\n",
    "</pre>\n",
    "\n",
    "Ex: \n",
    "<pre>\n",
    "S1= \"the first column F will contain only 5 uniques values\"\n",
    "S2= \"the second column S will contain only 3 uniques values\"\n",
    "Output:\n",
    "a. 7\n",
    "b. ['first','F','5']\n",
    "c. ['second','S','3']\n",
    "</pre>"
   ]
  },
  {
   "cell_type": "code",
   "execution_count": 20,
   "metadata": {
    "colab": {},
    "colab_type": "code",
    "id": "Ez7hlHK0B-lG"
   },
   "outputs": [
    {
     "name": "stdout",
     "output_type": "stream",
     "text": [
      "7\n",
      "['5', 'first', 'F']\n",
      "['3', 'S', 'second']\n"
     ]
    }
   ],
   "source": [
    "Sentence_1= \"the first column F will contain only 5 uniques values\"\n",
    "Sentence_2= \"the second column S will contain only 3 uniques values\"\n",
    "\n",
    "def string_features(S1, S2):\n",
    "    \n",
    "    #convert the strings into lists using split\n",
    "    A = S1.split()\n",
    "    B = S2.split()\n",
    "    \n",
    "    #a. Number of common words between S1, S2\n",
    "    print(len(set(A).intersection(set(B))))\n",
    "    \n",
    "    #b. Words in S1 but not in S2\n",
    "    print(list(set(A)-set(B))) \n",
    "    \n",
    "    #c. Words in S2 but not in S1\n",
    "    print(list(set(B)-set(A)))\n",
    "    return\n",
    "\n",
    "string_features(Sentence_1,Sentence_2)"
   ]
  },
  {
   "cell_type": "markdown",
   "metadata": {
    "colab_type": "text",
    "id": "XefXVEjCB-lI"
   },
   "source": [
    "<h3> Q10: Log- loss</h3>\n",
    "You will be given a list of lists, each sublist will be of length 2 i.e. [[x,y],[p,q],[l,m]..[r,s]]\n",
    "consider its like a martrix of n rows and two columns\n",
    "\n",
    "a. the first column Y will contain interger values <br>\n",
    "b. the second column $Y_{score}$ will be having float values <br>\n",
    "Your task is to find the value of $f(Y,Y_{score}) = -1*\\frac{1}{n}\\Sigma_{for each Y,Y_{score} pair}(Ylog10(Y_{score})+(1-Y)log10(1-Y_{score}))$ here n is the number of rows in the matrix\n",
    "<pre>\n",
    "Ex:\n",
    "[[1, 0.4], [0, 0.5], [0, 0.9], [0, 0.3], [0, 0.6], [1, 0.1], [1, 0.9], [1, 0.8]]\n",
    "output:\n",
    "0.4243099\n",
    "</pre>\n",
    "$\\frac{-1}{8}\\cdot((1\\cdot log_{10}(0.4)+0\\cdot log_{10}(0.6))+(0\\cdot log_{10}(0.5)+1\\cdot log_{10}(0.5)) + ... + (1\\cdot log_{10}(0.8)+0\\cdot log_{10}(0.2)) )$"
   ]
  },
  {
   "cell_type": "code",
   "execution_count": 1,
   "metadata": {
    "colab": {},
    "colab_type": "code",
    "id": "N9zkagyNB-lJ",
    "scrolled": true
   },
   "outputs": [
    {
     "data": {
      "text/plain": [
       "0.42430993457031635"
      ]
     },
     "execution_count": 1,
     "metadata": {},
     "output_type": "execute_result"
    }
   ],
   "source": [
    "import math\n",
    "\n",
    "def compute_log_loss(A):\n",
    "    \n",
    "    #sum_series as 0 initially to store the sum of series in the formulae\n",
    "    sum_series = 0\n",
    "    for i in range(len(A)):\n",
    "        \n",
    "        #to calculate sum of the series based on above formulae\n",
    "        sum_series += ((A[i][0] * math.log(A[i][1],10)) + ((1-A[i][0]) * (math.log(1-A[i][1],10))))\n",
    "    log_loss = ((-1/8)*sum_series) \n",
    "    \n",
    "    return log_loss\n",
    "\n",
    "\n",
    "A = [[1, 0.4], [0, 0.5], [0, 0.9], [0, 0.3], [0, 0.6], [1, 0.1], [1, 0.9], [1, 0.8]]\n",
    "\n",
    "compute_log_loss(A)"
   ]
  },
  {
   "cell_type": "code",
   "execution_count": null,
   "metadata": {},
   "outputs": [],
   "source": []
  }
 ],
 "metadata": {
  "colab": {
   "collapsed_sections": [],
   "name": "1.Python Assignment.ipynb",
   "provenance": []
  },
  "kernelspec": {
   "display_name": "Python 3",
   "language": "python",
   "name": "python3"
  },
  "language_info": {
   "codemirror_mode": {
    "name": "ipython",
    "version": 3
   },
   "file_extension": ".py",
   "mimetype": "text/x-python",
   "name": "python",
   "nbconvert_exporter": "python",
   "pygments_lexer": "ipython3",
   "version": "3.7.6"
  }
 },
 "nbformat": 4,
 "nbformat_minor": 1
}
